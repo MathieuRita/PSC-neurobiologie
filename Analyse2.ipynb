{
 "cells": [
  {
   "cell_type": "code",
   "execution_count": 2,
   "metadata": {},
   "outputs": [],
   "source": [
    "import numpy as np\n",
    "import sys,os \n",
    "sys.path.append(\"/Users/MathieuRita/Desktop/PSC-info/imgca-master\")\n",
    "import imgca as ca\n",
    "import matplotlib.pyplot as plt\n",
    "import scipy as sc\n",
    "from scipy.ndimage.filters import gaussian_filter\n",
    "\n",
    "data,neuropil, conds, stim, dt, expname = ca.importRaw(\"/Users/MathieuRita/Desktop/PSC-info/Data/180117_mouse1\")\n",
    "\n",
    "nexp, ncell, nstim, nt = data.shape\n",
    "\n",
    "data, neuropil, rmcells1 = ca.rmNeuropil(data, neuropil)\n",
    "\n",
    "data=ca.dFoverF(data)\n",
    "rmcells2 = np.where(data[0].min(1).min(1)<-1)[0]\n",
    "data = np.delete(data, rmcells2,1)\n",
    "\n",
    "data=ca.format5D(data,\"/Users/MathieuRita/Desktop/PSC-info/Data/180117_mouse1\", conds, dt, method=\"minimal\")\n",
    "\n",
    "#data=[num exp, num cell, num son, repetition, temps]\n",
    "  \n",
    "data=data-np.mean(data[:,:,:,:,:15], axis=4, keepdims=True)\n",
    "\n",
    "data=ca.deconvolve(data, dt, tau=2)\n",
    "\n",
    "data=gaussian_filter(data,(0,0,0,0,2))\n",
    "\n",
    "data=data[:,:,:,:,5:-5]\n",
    "# permet de s'affranchir des effets de bords ou le filtrage gaussien fait potentiellement de la merde"
   ]
  },
  {
   "cell_type": "code",
   "execution_count": 2,
   "metadata": {},
   "outputs": [
    {
     "name": "stdout",
     "output_type": "stream",
     "text": [
      "-9.192654351456499e-05\n",
      "-0.0001443884119798766\n"
     ]
    }
   ],
   "source": [
    "print(np.mean(data[:,:,8,:,10:32]))\n",
    "print(np.mean(data[:,:,14,:,10:32]))"
   ]
  },
  {
   "cell_type": "code",
   "execution_count": 3,
   "metadata": {},
   "outputs": [],
   "source": [
    "x=np.linspace(0, 50)\n",
    "y=np.mean(data[0, 10, 3, :, 0:50], 0)\n",
    "\n",
    "plt.plot(x,y)\n",
    "plt.show()"
   ]
  },
  {
   "cell_type": "code",
   "execution_count": null,
   "metadata": {},
   "outputs": [],
   "source": []
  }
 ],
 "metadata": {
  "kernelspec": {
   "display_name": "Python 2",
   "language": "python",
   "name": "python2"
  }
 },
 "nbformat": 4,
 "nbformat_minor": 2
}
